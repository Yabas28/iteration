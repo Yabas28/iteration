{
 "cells": [
  {
   "cell_type": "code",
   "execution_count": 1,
   "id": "75db6edd",
   "metadata": {},
   "outputs": [],
   "source": [
    "nums=[10,20,32,98,76,56,45,126,56,89,33,45,6,7,8,9,0,10,27,35,36,76,56,45,126,56,89,33,45,6,7,8,9,0,10,27,35,36]"
   ]
  },
  {
   "cell_type": "code",
   "execution_count": 2,
   "id": "acc943ae",
   "metadata": {},
   "outputs": [],
   "source": [
    "Even=[]\n",
    "Odd=[]\n",
    "\n",
    "for i in nums:\n",
    "  if i%2==0:\n",
    "    Even.append(i)\n",
    "  elif i%2==1:\n",
    "    Odd.append(i)"
   ]
  },
  {
   "cell_type": "code",
   "execution_count": 3,
   "id": "e228e9dc",
   "metadata": {},
   "outputs": [
    {
     "name": "stdout",
     "output_type": "stream",
     "text": [
      "10 20 32 98 76 56 126 56 6 8 0 10 36 76 56 126 56 6 8 0 10 36\n",
      "[45, 89, 33, 45, 7, 9, 27, 35, 45, 89, 33, 45, 7, 9, 27, 35]\n"
     ]
    }
   ],
   "source": [
    "print(*Even)\n",
    "print(Odd)"
   ]
  }
 ],
 "metadata": {
  "kernelspec": {
   "display_name": "Python 3",
   "language": "python",
   "name": "python3"
  },
  "language_info": {
   "codemirror_mode": {
    "name": "ipython",
    "version": 3
   },
   "file_extension": ".py",
   "mimetype": "text/x-python",
   "name": "python",
   "nbconvert_exporter": "python",
   "pygments_lexer": "ipython3",
   "version": "3.12.10"
  }
 },
 "nbformat": 4,
 "nbformat_minor": 5
}
